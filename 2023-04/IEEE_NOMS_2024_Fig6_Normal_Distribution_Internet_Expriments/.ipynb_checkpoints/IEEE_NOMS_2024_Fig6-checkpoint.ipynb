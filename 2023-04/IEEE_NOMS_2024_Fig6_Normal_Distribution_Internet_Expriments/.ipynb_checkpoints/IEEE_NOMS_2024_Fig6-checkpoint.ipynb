{
 "cells": [
  {
   "cell_type": "code",
   "execution_count": 1,
   "id": "957350dc",
   "metadata": {},
   "outputs": [
    {
     "name": "stderr",
     "output_type": "stream",
     "text": [
      "/Users/xiuhuiwang/opt/anaconda3/lib/python3.9/site-packages/pandas/core/arrays/masked.py:60: UserWarning: Pandas requires version '1.3.6' or newer of 'bottleneck' (version '1.3.4' currently installed).\n",
      "  from pandas.core import (\n",
      "/Users/xiuhuiwang/opt/anaconda3/lib/python3.9/site-packages/scipy/__init__.py:146: UserWarning:\n",
      "\n",
      "A NumPy version >=1.16.5 and <1.23.0 is required for this version of SciPy (detected version 1.25.2\n",
      "\n"
     ]
    },
    {
     "data": {
      "text/html": [
       "        <script type=\"text/javascript\">\n",
       "        window.PlotlyConfig = {MathJaxConfig: 'local'};\n",
       "        if (window.MathJax) {MathJax.Hub.Config({SVG: {font: \"STIX-Web\"}});}\n",
       "        if (typeof require !== 'undefined') {\n",
       "        require.undef(\"plotly\");\n",
       "        requirejs.config({\n",
       "            paths: {\n",
       "                'plotly': ['https://cdn.plot.ly/plotly-2.9.0.min']\n",
       "            }\n",
       "        });\n",
       "        require(['plotly'], function(Plotly) {\n",
       "            window._Plotly = Plotly;\n",
       "        });\n",
       "        }\n",
       "        </script>\n",
       "        "
      ]
     },
     "metadata": {},
     "output_type": "display_data"
    },
    {
     "data": {
      "text/html": [
       "        <script type=\"text/javascript\">\n",
       "        window.PlotlyConfig = {MathJaxConfig: 'local'};\n",
       "        if (window.MathJax) {MathJax.Hub.Config({SVG: {font: \"STIX-Web\"}});}\n",
       "        if (typeof require !== 'undefined') {\n",
       "        require.undef(\"plotly\");\n",
       "        requirejs.config({\n",
       "            paths: {\n",
       "                'plotly': ['https://cdn.plot.ly/plotly-2.9.0.min']\n",
       "            }\n",
       "        });\n",
       "        require(['plotly'], function(Plotly) {\n",
       "            window._Plotly = Plotly;\n",
       "        });\n",
       "        }\n",
       "        </script>\n",
       "        "
      ]
     },
     "metadata": {},
     "output_type": "display_data"
    }
   ],
   "source": [
    "import pandas as pd\n",
    "import numpy as np\n",
    "import chart_studio.plotly as py\n",
    "import cufflinks as cf\n",
    "import seaborn as sns\n",
    "import plotly.express as px\n",
    "import plotly.graph_objects as go\n",
    "%matplotlib inline\n",
    "\n",
    "# Make Plotly work in your Jupyter Notebook\n",
    "from plotly.offline import download_plotlyjs, init_notebook_mode, plot, iplot\n",
    "init_notebook_mode(connected=True)\n",
    "# Use Plotly locally\n",
    "cf.go_offline()\n"
   ]
  },
  {
   "cell_type": "code",
   "execution_count": 3,
   "id": "a456bbe0",
   "metadata": {
    "scrolled": false
   },
   "outputs": [
    {
     "data": {
      "application/vnd.plotly.v1+json": {
       "config": {
        "plotlyServerURL": "https://plot.ly"
       },
       "data": [
        {
         "error_x": {
          "thickness": 4,
          "width": 4
         },
         "error_y": {
          "array": [
           0.6
          ],
          "thickness": 4,
          "width": 4
         },
         "hovertemplate": "type=%{x}<br>PL=$PL_{1}$<br>Loss Rate=%{y}<extra></extra>",
         "legendgroup": "Compression",
         "marker": {
          "color": "#636efa",
          "size": 13,
          "symbol": "circle"
         },
         "mode": "markers",
         "name": "Compression",
         "orientation": "v",
         "showlegend": true,
         "type": "scatter",
         "x": [
          "Compression"
         ],
         "xaxis": "x",
         "y": [
          75
         ],
         "yaxis": "y"
        },
        {
         "error_x": {
          "thickness": 4,
          "width": 4
         },
         "error_y": {
          "array": [
           3.1
          ],
          "thickness": 4,
          "width": 4
         },
         "hovertemplate": "type=%{x}<br>PL=$PL_{2}$<br>Loss Rate=%{y}<extra></extra>",
         "legendgroup": "Compression",
         "marker": {
          "color": "#636efa",
          "size": 13,
          "symbol": "circle"
         },
         "mode": "markers",
         "name": "Compression",
         "orientation": "v",
         "showlegend": false,
         "type": "scatter",
         "x": [
          "Compression"
         ],
         "xaxis": "x2",
         "y": [
          82.3
         ],
         "yaxis": "y2"
        },
        {
         "error_x": {
          "thickness": 4,
          "width": 4
         },
         "error_y": {
          "array": [
           2.7
          ],
          "thickness": 4,
          "width": 4
         },
         "hovertemplate": "type=%{x}<br>PL=$PL_{3}$<br>Loss Rate=%{y}<extra></extra>",
         "legendgroup": "Compression",
         "marker": {
          "color": "#636efa",
          "size": 13,
          "symbol": "circle"
         },
         "mode": "markers",
         "name": "Compression",
         "orientation": "v",
         "showlegend": false,
         "type": "scatter",
         "x": [
          "Compression"
         ],
         "xaxis": "x3",
         "y": [
          80.1
         ],
         "yaxis": "y3"
        },
        {
         "error_x": {
          "thickness": 4,
          "width": 4
         },
         "error_y": {
          "array": [
           1.7
          ],
          "thickness": 4,
          "width": 4
         },
         "hovertemplate": "type=%{x}<br>PL=$PL_{4}$<br>Loss Rate=%{y}<extra></extra>",
         "legendgroup": "Compression",
         "marker": {
          "color": "#636efa",
          "size": 13,
          "symbol": "circle"
         },
         "mode": "markers",
         "name": "Compression",
         "orientation": "v",
         "showlegend": false,
         "type": "scatter",
         "x": [
          "Compression"
         ],
         "xaxis": "x4",
         "y": [
          77.6
         ],
         "yaxis": "y4"
        },
        {
         "error_x": {
          "thickness": 4,
          "width": 4
         },
         "error_y": {
          "array": [
           0.2
          ],
          "thickness": 4,
          "width": 4
         },
         "hovertemplate": "type=%{x}<br>PL=$PL_{1}$<br>Loss Rate=%{y}<extra></extra>",
         "legendgroup": "Shaping",
         "marker": {
          "color": "#EF553B",
          "size": 13,
          "symbol": "triangle-up"
         },
         "mode": "markers",
         "name": "Shaping",
         "orientation": "v",
         "showlegend": true,
         "type": "scatter",
         "x": [
          "Shaping"
         ],
         "xaxis": "x",
         "y": [
          78.1
         ],
         "yaxis": "y"
        },
        {
         "error_x": {
          "thickness": 4,
          "width": 4
         },
         "error_y": {
          "array": [
           4.3
          ],
          "thickness": 4,
          "width": 4
         },
         "hovertemplate": "type=%{x}<br>PL=$PL_{2}$<br>Loss Rate=%{y}<extra></extra>",
         "legendgroup": "Shaping",
         "marker": {
          "color": "#EF553B",
          "size": 13,
          "symbol": "triangle-up"
         },
         "mode": "markers",
         "name": "Shaping",
         "orientation": "v",
         "showlegend": false,
         "type": "scatter",
         "x": [
          "Shaping"
         ],
         "xaxis": "x2",
         "y": [
          71.4
         ],
         "yaxis": "y2"
        },
        {
         "error_x": {
          "thickness": 4,
          "width": 4
         },
         "error_y": {
          "array": [
           2.2
          ],
          "thickness": 4,
          "width": 4
         },
         "hovertemplate": "type=%{x}<br>PL=$PL_{3}$<br>Loss Rate=%{y}<extra></extra>",
         "legendgroup": "Shaping",
         "marker": {
          "color": "#EF553B",
          "size": 13,
          "symbol": "triangle-up"
         },
         "mode": "markers",
         "name": "Shaping",
         "orientation": "v",
         "showlegend": false,
         "type": "scatter",
         "x": [
          "Shaping"
         ],
         "xaxis": "x3",
         "y": [
          81.4
         ],
         "yaxis": "y3"
        },
        {
         "error_x": {
          "thickness": 4,
          "width": 4
         },
         "error_y": {
          "array": [
           1.7
          ],
          "thickness": 4,
          "width": 4
         },
         "hovertemplate": "type=%{x}<br>PL=$PL_{4}$<br>Loss Rate=%{y}<extra></extra>",
         "legendgroup": "Shaping",
         "marker": {
          "color": "#EF553B",
          "size": 13,
          "symbol": "triangle-up"
         },
         "mode": "markers",
         "name": "Shaping",
         "orientation": "v",
         "showlegend": false,
         "type": "scatter",
         "x": [
          "Shaping"
         ],
         "xaxis": "x4",
         "y": [
          77.7
         ],
         "yaxis": "y4"
        },
        {
         "error_x": {
          "thickness": 4,
          "width": 4
         },
         "error_y": {
          "array": [
           0.3
          ],
          "thickness": 4,
          "width": 4
         },
         "hovertemplate": "type=%{x}<br>PL=$PL_{1}$<br>Loss Rate=%{y}<extra></extra>",
         "legendgroup": "SPQ",
         "marker": {
          "color": "#00cc96",
          "size": 13,
          "symbol": "square"
         },
         "mode": "markers",
         "name": "SPQ",
         "orientation": "v",
         "showlegend": true,
         "type": "scatter",
         "x": [
          "SPQ"
         ],
         "xaxis": "x",
         "y": [
          94
         ],
         "yaxis": "y"
        },
        {
         "error_x": {
          "thickness": 4,
          "width": 4
         },
         "error_y": {
          "array": [
           3.2
          ],
          "thickness": 4,
          "width": 4
         },
         "hovertemplate": "type=%{x}<br>PL=$PL_{2}$<br>Loss Rate=%{y}<extra></extra>",
         "legendgroup": "SPQ",
         "marker": {
          "color": "#00cc96",
          "size": 13,
          "symbol": "square"
         },
         "mode": "markers",
         "name": "SPQ",
         "orientation": "v",
         "showlegend": false,
         "type": "scatter",
         "x": [
          "SPQ"
         ],
         "xaxis": "x2",
         "y": [
          89.4
         ],
         "yaxis": "y2"
        },
        {
         "error_x": {
          "thickness": 4,
          "width": 4
         },
         "error_y": {
          "array": [
           0.6
          ],
          "thickness": 4,
          "width": 4
         },
         "hovertemplate": "type=%{x}<br>PL=$PL_{3}$<br>Loss Rate=%{y}<extra></extra>",
         "legendgroup": "SPQ",
         "marker": {
          "color": "#00cc96",
          "size": 13,
          "symbol": "square"
         },
         "mode": "markers",
         "name": "SPQ",
         "orientation": "v",
         "showlegend": false,
         "type": "scatter",
         "x": [
          "SPQ"
         ],
         "xaxis": "x3",
         "y": [
          93.1
         ],
         "yaxis": "y3"
        },
        {
         "error_x": {
          "thickness": 4,
          "width": 4
         },
         "error_y": {
          "array": [
           1.8
          ],
          "thickness": 4,
          "width": 4
         },
         "hovertemplate": "type=%{x}<br>PL=$PL_{4}$<br>Loss Rate=%{y}<extra></extra>",
         "legendgroup": "SPQ",
         "marker": {
          "color": "#00cc96",
          "size": 13,
          "symbol": "square"
         },
         "mode": "markers",
         "name": "SPQ",
         "orientation": "v",
         "showlegend": false,
         "type": "scatter",
         "x": [
          "SPQ"
         ],
         "xaxis": "x4",
         "y": [
          92.2
         ],
         "yaxis": "y4"
        }
       ],
       "layout": {
        "annotations": [
         {
          "showarrow": false,
          "text": "$PL_{1}$",
          "x": 0.12425,
          "xanchor": "center",
          "xref": "paper",
          "y": -0.07,
          "yanchor": "bottom",
          "yref": "paper"
         },
         {
          "showarrow": false,
          "text": "$PL_{2}$",
          "x": 0.37475,
          "xanchor": "center",
          "xref": "paper",
          "y": -0.07,
          "yanchor": "bottom",
          "yref": "paper"
         },
         {
          "showarrow": false,
          "text": "$PL_{3}$",
          "x": 0.6252500000000001,
          "xanchor": "center",
          "xref": "paper",
          "y": -0.07,
          "yanchor": "bottom",
          "yref": "paper"
         },
         {
          "showarrow": false,
          "text": "$PL_{4}$",
          "x": 0.87575,
          "xanchor": "center",
          "xref": "paper",
          "y": -0.07,
          "yanchor": "bottom",
          "yref": "paper"
         },
         {
          "showarrow": false,
          "text": "",
          "x": -1.2,
          "xanchor": "left",
          "xref": "x",
          "y": 1,
          "yanchor": "top",
          "yref": "y domain"
         },
         {
          "showarrow": false,
          "text": "",
          "x": -1.2,
          "xanchor": "left",
          "xref": "x2",
          "y": 1,
          "yanchor": "top",
          "yref": "y2 domain"
         },
         {
          "showarrow": false,
          "text": "",
          "x": -1.2,
          "xanchor": "left",
          "xref": "x3",
          "y": 1,
          "yanchor": "top",
          "yref": "y3 domain"
         },
         {
          "showarrow": false,
          "text": "",
          "x": -1.2,
          "xanchor": "left",
          "xref": "x4",
          "y": 1,
          "yanchor": "top",
          "yref": "y4 domain"
         },
         {
          "showarrow": false,
          "text": "",
          "x": 1,
          "xanchor": "right",
          "xref": "x domain",
          "y": 20,
          "yanchor": "bottom",
          "yref": "y"
         },
         {
          "showarrow": false,
          "text": "",
          "x": 1,
          "xanchor": "right",
          "xref": "x2 domain",
          "y": 20,
          "yanchor": "bottom",
          "yref": "y2"
         },
         {
          "showarrow": false,
          "text": "",
          "x": 1,
          "xanchor": "right",
          "xref": "x3 domain",
          "y": 20,
          "yanchor": "bottom",
          "yref": "y3"
         },
         {
          "showarrow": false,
          "text": "",
          "x": 1,
          "xanchor": "right",
          "xref": "x4 domain",
          "y": 20,
          "yanchor": "bottom",
          "yref": "y4"
         },
         {
          "showarrow": false,
          "text": "20% Threshold",
          "x": 1,
          "xref": "x4",
          "y": 24,
          "yref": "y4"
         }
        ],
        "font": {
         "size": 15
        },
        "height": 400,
        "legend": {
         "bordercolor": "lightgrey",
         "borderwidth": 1,
         "orientation": "h",
         "title": {
          "text": ""
         },
         "tracegroupgap": 0,
         "x": 0.99,
         "xanchor": "right",
         "y": 0.09,
         "yanchor": "middle"
        },
        "margin": {
         "t": 60
        },
        "plot_bgcolor": "#fff",
        "shapes": [
         {
          "line": {
           "color": "lightgrey",
           "width": 1
          },
          "type": "rect",
          "x0": 0,
          "x1": 1,
          "xref": "paper",
          "y0": 0,
          "y1": 1,
          "yref": "paper"
         },
         {
          "line": {
           "color": "lightgrey",
           "width": 1
          },
          "type": "line",
          "x0": -1.2,
          "x1": -1.2,
          "xref": "x",
          "y0": 0,
          "y1": 1,
          "yref": "y domain"
         },
         {
          "line": {
           "color": "lightgrey",
           "width": 1
          },
          "type": "line",
          "x0": -1.2,
          "x1": -1.2,
          "xref": "x2",
          "y0": 0,
          "y1": 1,
          "yref": "y2 domain"
         },
         {
          "line": {
           "color": "lightgrey",
           "width": 1
          },
          "type": "line",
          "x0": -1.2,
          "x1": -1.2,
          "xref": "x3",
          "y0": 0,
          "y1": 1,
          "yref": "y3 domain"
         },
         {
          "line": {
           "color": "lightgrey",
           "width": 1
          },
          "type": "line",
          "x0": -1.2,
          "x1": -1.2,
          "xref": "x4",
          "y0": 0,
          "y1": 1,
          "yref": "y4 domain"
         },
         {
          "line": {
           "dash": "dash"
          },
          "type": "line",
          "x0": 0,
          "x1": 1,
          "xref": "x domain",
          "y0": 20,
          "y1": 20,
          "yref": "y"
         },
         {
          "line": {
           "dash": "dash"
          },
          "type": "line",
          "x0": 0,
          "x1": 1,
          "xref": "x2 domain",
          "y0": 20,
          "y1": 20,
          "yref": "y2"
         },
         {
          "line": {
           "dash": "dash"
          },
          "type": "line",
          "x0": 0,
          "x1": 1,
          "xref": "x3 domain",
          "y0": 20,
          "y1": 20,
          "yref": "y3"
         },
         {
          "line": {
           "dash": "dash"
          },
          "type": "line",
          "x0": 0,
          "x1": 1,
          "xref": "x4 domain",
          "y0": 20,
          "y1": 20,
          "yref": "y4"
         }
        ],
        "template": {
         "data": {
          "bar": [
           {
            "error_x": {
             "color": "#2a3f5f"
            },
            "error_y": {
             "color": "#2a3f5f"
            },
            "marker": {
             "line": {
              "color": "#E5ECF6",
              "width": 0.5
             },
             "pattern": {
              "fillmode": "overlay",
              "size": 10,
              "solidity": 0.2
             }
            },
            "type": "bar"
           }
          ],
          "barpolar": [
           {
            "marker": {
             "line": {
              "color": "#E5ECF6",
              "width": 0.5
             },
             "pattern": {
              "fillmode": "overlay",
              "size": 10,
              "solidity": 0.2
             }
            },
            "type": "barpolar"
           }
          ],
          "carpet": [
           {
            "aaxis": {
             "endlinecolor": "#2a3f5f",
             "gridcolor": "white",
             "linecolor": "white",
             "minorgridcolor": "white",
             "startlinecolor": "#2a3f5f"
            },
            "baxis": {
             "endlinecolor": "#2a3f5f",
             "gridcolor": "white",
             "linecolor": "white",
             "minorgridcolor": "white",
             "startlinecolor": "#2a3f5f"
            },
            "type": "carpet"
           }
          ],
          "choropleth": [
           {
            "colorbar": {
             "outlinewidth": 0,
             "ticks": ""
            },
            "type": "choropleth"
           }
          ],
          "contour": [
           {
            "colorbar": {
             "outlinewidth": 0,
             "ticks": ""
            },
            "colorscale": [
             [
              0,
              "#0d0887"
             ],
             [
              0.1111111111111111,
              "#46039f"
             ],
             [
              0.2222222222222222,
              "#7201a8"
             ],
             [
              0.3333333333333333,
              "#9c179e"
             ],
             [
              0.4444444444444444,
              "#bd3786"
             ],
             [
              0.5555555555555556,
              "#d8576b"
             ],
             [
              0.6666666666666666,
              "#ed7953"
             ],
             [
              0.7777777777777778,
              "#fb9f3a"
             ],
             [
              0.8888888888888888,
              "#fdca26"
             ],
             [
              1,
              "#f0f921"
             ]
            ],
            "type": "contour"
           }
          ],
          "contourcarpet": [
           {
            "colorbar": {
             "outlinewidth": 0,
             "ticks": ""
            },
            "type": "contourcarpet"
           }
          ],
          "heatmap": [
           {
            "colorbar": {
             "outlinewidth": 0,
             "ticks": ""
            },
            "colorscale": [
             [
              0,
              "#0d0887"
             ],
             [
              0.1111111111111111,
              "#46039f"
             ],
             [
              0.2222222222222222,
              "#7201a8"
             ],
             [
              0.3333333333333333,
              "#9c179e"
             ],
             [
              0.4444444444444444,
              "#bd3786"
             ],
             [
              0.5555555555555556,
              "#d8576b"
             ],
             [
              0.6666666666666666,
              "#ed7953"
             ],
             [
              0.7777777777777778,
              "#fb9f3a"
             ],
             [
              0.8888888888888888,
              "#fdca26"
             ],
             [
              1,
              "#f0f921"
             ]
            ],
            "type": "heatmap"
           }
          ],
          "heatmapgl": [
           {
            "colorbar": {
             "outlinewidth": 0,
             "ticks": ""
            },
            "colorscale": [
             [
              0,
              "#0d0887"
             ],
             [
              0.1111111111111111,
              "#46039f"
             ],
             [
              0.2222222222222222,
              "#7201a8"
             ],
             [
              0.3333333333333333,
              "#9c179e"
             ],
             [
              0.4444444444444444,
              "#bd3786"
             ],
             [
              0.5555555555555556,
              "#d8576b"
             ],
             [
              0.6666666666666666,
              "#ed7953"
             ],
             [
              0.7777777777777778,
              "#fb9f3a"
             ],
             [
              0.8888888888888888,
              "#fdca26"
             ],
             [
              1,
              "#f0f921"
             ]
            ],
            "type": "heatmapgl"
           }
          ],
          "histogram": [
           {
            "marker": {
             "pattern": {
              "fillmode": "overlay",
              "size": 10,
              "solidity": 0.2
             }
            },
            "type": "histogram"
           }
          ],
          "histogram2d": [
           {
            "colorbar": {
             "outlinewidth": 0,
             "ticks": ""
            },
            "colorscale": [
             [
              0,
              "#0d0887"
             ],
             [
              0.1111111111111111,
              "#46039f"
             ],
             [
              0.2222222222222222,
              "#7201a8"
             ],
             [
              0.3333333333333333,
              "#9c179e"
             ],
             [
              0.4444444444444444,
              "#bd3786"
             ],
             [
              0.5555555555555556,
              "#d8576b"
             ],
             [
              0.6666666666666666,
              "#ed7953"
             ],
             [
              0.7777777777777778,
              "#fb9f3a"
             ],
             [
              0.8888888888888888,
              "#fdca26"
             ],
             [
              1,
              "#f0f921"
             ]
            ],
            "type": "histogram2d"
           }
          ],
          "histogram2dcontour": [
           {
            "colorbar": {
             "outlinewidth": 0,
             "ticks": ""
            },
            "colorscale": [
             [
              0,
              "#0d0887"
             ],
             [
              0.1111111111111111,
              "#46039f"
             ],
             [
              0.2222222222222222,
              "#7201a8"
             ],
             [
              0.3333333333333333,
              "#9c179e"
             ],
             [
              0.4444444444444444,
              "#bd3786"
             ],
             [
              0.5555555555555556,
              "#d8576b"
             ],
             [
              0.6666666666666666,
              "#ed7953"
             ],
             [
              0.7777777777777778,
              "#fb9f3a"
             ],
             [
              0.8888888888888888,
              "#fdca26"
             ],
             [
              1,
              "#f0f921"
             ]
            ],
            "type": "histogram2dcontour"
           }
          ],
          "mesh3d": [
           {
            "colorbar": {
             "outlinewidth": 0,
             "ticks": ""
            },
            "type": "mesh3d"
           }
          ],
          "parcoords": [
           {
            "line": {
             "colorbar": {
              "outlinewidth": 0,
              "ticks": ""
             }
            },
            "type": "parcoords"
           }
          ],
          "pie": [
           {
            "automargin": true,
            "type": "pie"
           }
          ],
          "scatter": [
           {
            "marker": {
             "colorbar": {
              "outlinewidth": 0,
              "ticks": ""
             }
            },
            "type": "scatter"
           }
          ],
          "scatter3d": [
           {
            "line": {
             "colorbar": {
              "outlinewidth": 0,
              "ticks": ""
             }
            },
            "marker": {
             "colorbar": {
              "outlinewidth": 0,
              "ticks": ""
             }
            },
            "type": "scatter3d"
           }
          ],
          "scattercarpet": [
           {
            "marker": {
             "colorbar": {
              "outlinewidth": 0,
              "ticks": ""
             }
            },
            "type": "scattercarpet"
           }
          ],
          "scattergeo": [
           {
            "marker": {
             "colorbar": {
              "outlinewidth": 0,
              "ticks": ""
             }
            },
            "type": "scattergeo"
           }
          ],
          "scattergl": [
           {
            "marker": {
             "colorbar": {
              "outlinewidth": 0,
              "ticks": ""
             }
            },
            "type": "scattergl"
           }
          ],
          "scattermapbox": [
           {
            "marker": {
             "colorbar": {
              "outlinewidth": 0,
              "ticks": ""
             }
            },
            "type": "scattermapbox"
           }
          ],
          "scatterpolar": [
           {
            "marker": {
             "colorbar": {
              "outlinewidth": 0,
              "ticks": ""
             }
            },
            "type": "scatterpolar"
           }
          ],
          "scatterpolargl": [
           {
            "marker": {
             "colorbar": {
              "outlinewidth": 0,
              "ticks": ""
             }
            },
            "type": "scatterpolargl"
           }
          ],
          "scatterternary": [
           {
            "marker": {
             "colorbar": {
              "outlinewidth": 0,
              "ticks": ""
             }
            },
            "type": "scatterternary"
           }
          ],
          "surface": [
           {
            "colorbar": {
             "outlinewidth": 0,
             "ticks": ""
            },
            "colorscale": [
             [
              0,
              "#0d0887"
             ],
             [
              0.1111111111111111,
              "#46039f"
             ],
             [
              0.2222222222222222,
              "#7201a8"
             ],
             [
              0.3333333333333333,
              "#9c179e"
             ],
             [
              0.4444444444444444,
              "#bd3786"
             ],
             [
              0.5555555555555556,
              "#d8576b"
             ],
             [
              0.6666666666666666,
              "#ed7953"
             ],
             [
              0.7777777777777778,
              "#fb9f3a"
             ],
             [
              0.8888888888888888,
              "#fdca26"
             ],
             [
              1,
              "#f0f921"
             ]
            ],
            "type": "surface"
           }
          ],
          "table": [
           {
            "cells": {
             "fill": {
              "color": "#EBF0F8"
             },
             "line": {
              "color": "white"
             }
            },
            "header": {
             "fill": {
              "color": "#C8D4E3"
             },
             "line": {
              "color": "white"
             }
            },
            "type": "table"
           }
          ]
         },
         "layout": {
          "annotationdefaults": {
           "arrowcolor": "#2a3f5f",
           "arrowhead": 0,
           "arrowwidth": 1
          },
          "autotypenumbers": "strict",
          "coloraxis": {
           "colorbar": {
            "outlinewidth": 0,
            "ticks": ""
           }
          },
          "colorscale": {
           "diverging": [
            [
             0,
             "#8e0152"
            ],
            [
             0.1,
             "#c51b7d"
            ],
            [
             0.2,
             "#de77ae"
            ],
            [
             0.3,
             "#f1b6da"
            ],
            [
             0.4,
             "#fde0ef"
            ],
            [
             0.5,
             "#f7f7f7"
            ],
            [
             0.6,
             "#e6f5d0"
            ],
            [
             0.7,
             "#b8e186"
            ],
            [
             0.8,
             "#7fbc41"
            ],
            [
             0.9,
             "#4d9221"
            ],
            [
             1,
             "#276419"
            ]
           ],
           "sequential": [
            [
             0,
             "#0d0887"
            ],
            [
             0.1111111111111111,
             "#46039f"
            ],
            [
             0.2222222222222222,
             "#7201a8"
            ],
            [
             0.3333333333333333,
             "#9c179e"
            ],
            [
             0.4444444444444444,
             "#bd3786"
            ],
            [
             0.5555555555555556,
             "#d8576b"
            ],
            [
             0.6666666666666666,
             "#ed7953"
            ],
            [
             0.7777777777777778,
             "#fb9f3a"
            ],
            [
             0.8888888888888888,
             "#fdca26"
            ],
            [
             1,
             "#f0f921"
            ]
           ],
           "sequentialminus": [
            [
             0,
             "#0d0887"
            ],
            [
             0.1111111111111111,
             "#46039f"
            ],
            [
             0.2222222222222222,
             "#7201a8"
            ],
            [
             0.3333333333333333,
             "#9c179e"
            ],
            [
             0.4444444444444444,
             "#bd3786"
            ],
            [
             0.5555555555555556,
             "#d8576b"
            ],
            [
             0.6666666666666666,
             "#ed7953"
            ],
            [
             0.7777777777777778,
             "#fb9f3a"
            ],
            [
             0.8888888888888888,
             "#fdca26"
            ],
            [
             1,
             "#f0f921"
            ]
           ]
          },
          "colorway": [
           "#636efa",
           "#EF553B",
           "#00cc96",
           "#ab63fa",
           "#FFA15A",
           "#19d3f3",
           "#FF6692",
           "#B6E880",
           "#FF97FF",
           "#FECB52"
          ],
          "font": {
           "color": "#2a3f5f"
          },
          "geo": {
           "bgcolor": "white",
           "lakecolor": "white",
           "landcolor": "#E5ECF6",
           "showlakes": true,
           "showland": true,
           "subunitcolor": "white"
          },
          "hoverlabel": {
           "align": "left"
          },
          "hovermode": "closest",
          "mapbox": {
           "style": "light"
          },
          "paper_bgcolor": "white",
          "plot_bgcolor": "#E5ECF6",
          "polar": {
           "angularaxis": {
            "gridcolor": "white",
            "linecolor": "white",
            "ticks": ""
           },
           "bgcolor": "#E5ECF6",
           "radialaxis": {
            "gridcolor": "white",
            "linecolor": "white",
            "ticks": ""
           }
          },
          "scene": {
           "xaxis": {
            "backgroundcolor": "#E5ECF6",
            "gridcolor": "white",
            "gridwidth": 2,
            "linecolor": "white",
            "showbackground": true,
            "ticks": "",
            "zerolinecolor": "white"
           },
           "yaxis": {
            "backgroundcolor": "#E5ECF6",
            "gridcolor": "white",
            "gridwidth": 2,
            "linecolor": "white",
            "showbackground": true,
            "ticks": "",
            "zerolinecolor": "white"
           },
           "zaxis": {
            "backgroundcolor": "#E5ECF6",
            "gridcolor": "white",
            "gridwidth": 2,
            "linecolor": "white",
            "showbackground": true,
            "ticks": "",
            "zerolinecolor": "white"
           }
          },
          "shapedefaults": {
           "line": {
            "color": "#2a3f5f"
           }
          },
          "ternary": {
           "aaxis": {
            "gridcolor": "white",
            "linecolor": "white",
            "ticks": ""
           },
           "baxis": {
            "gridcolor": "white",
            "linecolor": "white",
            "ticks": ""
           },
           "bgcolor": "#E5ECF6",
           "caxis": {
            "gridcolor": "white",
            "linecolor": "white",
            "ticks": ""
           }
          },
          "title": {
           "x": 0.05
          },
          "xaxis": {
           "automargin": true,
           "gridcolor": "white",
           "linecolor": "white",
           "ticks": "",
           "title": {
            "standoff": 15
           },
           "zerolinecolor": "white",
           "zerolinewidth": 2
          },
          "yaxis": {
           "automargin": true,
           "gridcolor": "white",
           "linecolor": "white",
           "ticks": "",
           "title": {
            "standoff": 15
           },
           "zerolinecolor": "white",
           "zerolinewidth": 2
          }
         }
        },
        "width": 1000,
        "xaxis": {
         "anchor": "y",
         "categoryarray": [
          "Compression",
          "Shaping",
          "SPQ"
         ],
         "categoryorder": "array",
         "domain": [
          0,
          0.2485
         ],
         "title": {
          "text": "type"
         },
         "visible": false
        },
        "xaxis2": {
         "anchor": "y2",
         "categoryarray": [
          "Compression",
          "Shaping",
          "SPQ"
         ],
         "categoryorder": "array",
         "domain": [
          0.2505,
          0.499
         ],
         "matches": "x",
         "title": {
          "text": "type"
         },
         "visible": false
        },
        "xaxis3": {
         "anchor": "y3",
         "categoryarray": [
          "Compression",
          "Shaping",
          "SPQ"
         ],
         "categoryorder": "array",
         "domain": [
          0.501,
          0.7495
         ],
         "matches": "x",
         "title": {
          "text": "type"
         },
         "visible": false
        },
        "xaxis4": {
         "anchor": "y4",
         "categoryarray": [
          "Compression",
          "Shaping",
          "SPQ"
         ],
         "categoryorder": "array",
         "domain": [
          0.7515000000000001,
          1
         ],
         "matches": "x",
         "title": {
          "text": "type"
         },
         "visible": false
        },
        "yaxis": {
         "anchor": "x",
         "domain": [
          0,
          1
         ],
         "gridcolor": "lightgrey",
         "gridwidth": 1,
         "range": [
          60,
          100
         ],
         "title": {
          "standoff": 1,
          "text": "$\\large{\\Delta l} $"
         },
         "visible": true
        },
        "yaxis2": {
         "anchor": "x2",
         "domain": [
          0,
          1
         ],
         "gridcolor": "lightgrey",
         "gridwidth": 1,
         "matches": "y",
         "showticklabels": false,
         "title": {
          "standoff": 1
         },
         "visible": true
        },
        "yaxis3": {
         "anchor": "x3",
         "domain": [
          0,
          1
         ],
         "gridcolor": "lightgrey",
         "gridwidth": 1,
         "matches": "y",
         "showticklabels": false,
         "title": {
          "standoff": 1
         },
         "visible": true
        },
        "yaxis4": {
         "anchor": "x4",
         "domain": [
          0,
          1
         ],
         "gridcolor": "lightgrey",
         "gridwidth": 1,
         "matches": "y",
         "showticklabels": false,
         "title": {
          "standoff": 1
         },
         "visible": true
        }
       }
      },
      "text/html": [
       "<div>                            <div id=\"12638a8b-2ce8-49b1-8323-7a77a1d899b3\" class=\"plotly-graph-div\" style=\"height:400px; width:1000px;\"></div>            <script type=\"text/javascript\">                require([\"plotly\"], function(Plotly) {                    window.PLOTLYENV=window.PLOTLYENV || {};                                    if (document.getElementById(\"12638a8b-2ce8-49b1-8323-7a77a1d899b3\")) {                    Plotly.newPlot(                        \"12638a8b-2ce8-49b1-8323-7a77a1d899b3\",                        [{\"error_y\":{\"array\":[0.6],\"thickness\":4,\"width\":4},\"hovertemplate\":\"type=%{x}<br>PL=$PL_{1}$<br>Loss Rate=%{y}<extra></extra>\",\"legendgroup\":\"Compression\",\"marker\":{\"color\":\"#636efa\",\"symbol\":\"circle\",\"size\":13},\"mode\":\"markers\",\"name\":\"Compression\",\"orientation\":\"v\",\"showlegend\":true,\"x\":[\"Compression\"],\"xaxis\":\"x\",\"y\":[75.0],\"yaxis\":\"y\",\"type\":\"scatter\",\"error_x\":{\"thickness\":4,\"width\":4}},{\"error_y\":{\"array\":[3.1],\"thickness\":4,\"width\":4},\"hovertemplate\":\"type=%{x}<br>PL=$PL_{2}$<br>Loss Rate=%{y}<extra></extra>\",\"legendgroup\":\"Compression\",\"marker\":{\"color\":\"#636efa\",\"symbol\":\"circle\",\"size\":13},\"mode\":\"markers\",\"name\":\"Compression\",\"orientation\":\"v\",\"showlegend\":false,\"x\":[\"Compression\"],\"xaxis\":\"x2\",\"y\":[82.3],\"yaxis\":\"y2\",\"type\":\"scatter\",\"error_x\":{\"thickness\":4,\"width\":4}},{\"error_y\":{\"array\":[2.7],\"thickness\":4,\"width\":4},\"hovertemplate\":\"type=%{x}<br>PL=$PL_{3}$<br>Loss Rate=%{y}<extra></extra>\",\"legendgroup\":\"Compression\",\"marker\":{\"color\":\"#636efa\",\"symbol\":\"circle\",\"size\":13},\"mode\":\"markers\",\"name\":\"Compression\",\"orientation\":\"v\",\"showlegend\":false,\"x\":[\"Compression\"],\"xaxis\":\"x3\",\"y\":[80.1],\"yaxis\":\"y3\",\"type\":\"scatter\",\"error_x\":{\"thickness\":4,\"width\":4}},{\"error_y\":{\"array\":[1.7],\"thickness\":4,\"width\":4},\"hovertemplate\":\"type=%{x}<br>PL=$PL_{4}$<br>Loss Rate=%{y}<extra></extra>\",\"legendgroup\":\"Compression\",\"marker\":{\"color\":\"#636efa\",\"symbol\":\"circle\",\"size\":13},\"mode\":\"markers\",\"name\":\"Compression\",\"orientation\":\"v\",\"showlegend\":false,\"x\":[\"Compression\"],\"xaxis\":\"x4\",\"y\":[77.6],\"yaxis\":\"y4\",\"type\":\"scatter\",\"error_x\":{\"thickness\":4,\"width\":4}},{\"error_y\":{\"array\":[0.2],\"thickness\":4,\"width\":4},\"hovertemplate\":\"type=%{x}<br>PL=$PL_{1}$<br>Loss Rate=%{y}<extra></extra>\",\"legendgroup\":\"Shaping\",\"marker\":{\"color\":\"#EF553B\",\"symbol\":\"triangle-up\",\"size\":13},\"mode\":\"markers\",\"name\":\"Shaping\",\"orientation\":\"v\",\"showlegend\":true,\"x\":[\"Shaping\"],\"xaxis\":\"x\",\"y\":[78.1],\"yaxis\":\"y\",\"type\":\"scatter\",\"error_x\":{\"thickness\":4,\"width\":4}},{\"error_y\":{\"array\":[4.3],\"thickness\":4,\"width\":4},\"hovertemplate\":\"type=%{x}<br>PL=$PL_{2}$<br>Loss Rate=%{y}<extra></extra>\",\"legendgroup\":\"Shaping\",\"marker\":{\"color\":\"#EF553B\",\"symbol\":\"triangle-up\",\"size\":13},\"mode\":\"markers\",\"name\":\"Shaping\",\"orientation\":\"v\",\"showlegend\":false,\"x\":[\"Shaping\"],\"xaxis\":\"x2\",\"y\":[71.4],\"yaxis\":\"y2\",\"type\":\"scatter\",\"error_x\":{\"thickness\":4,\"width\":4}},{\"error_y\":{\"array\":[2.2],\"thickness\":4,\"width\":4},\"hovertemplate\":\"type=%{x}<br>PL=$PL_{3}$<br>Loss Rate=%{y}<extra></extra>\",\"legendgroup\":\"Shaping\",\"marker\":{\"color\":\"#EF553B\",\"symbol\":\"triangle-up\",\"size\":13},\"mode\":\"markers\",\"name\":\"Shaping\",\"orientation\":\"v\",\"showlegend\":false,\"x\":[\"Shaping\"],\"xaxis\":\"x3\",\"y\":[81.4],\"yaxis\":\"y3\",\"type\":\"scatter\",\"error_x\":{\"thickness\":4,\"width\":4}},{\"error_y\":{\"array\":[1.7],\"thickness\":4,\"width\":4},\"hovertemplate\":\"type=%{x}<br>PL=$PL_{4}$<br>Loss Rate=%{y}<extra></extra>\",\"legendgroup\":\"Shaping\",\"marker\":{\"color\":\"#EF553B\",\"symbol\":\"triangle-up\",\"size\":13},\"mode\":\"markers\",\"name\":\"Shaping\",\"orientation\":\"v\",\"showlegend\":false,\"x\":[\"Shaping\"],\"xaxis\":\"x4\",\"y\":[77.7],\"yaxis\":\"y4\",\"type\":\"scatter\",\"error_x\":{\"thickness\":4,\"width\":4}},{\"error_y\":{\"array\":[0.3],\"thickness\":4,\"width\":4},\"hovertemplate\":\"type=%{x}<br>PL=$PL_{1}$<br>Loss Rate=%{y}<extra></extra>\",\"legendgroup\":\"SPQ\",\"marker\":{\"color\":\"#00cc96\",\"symbol\":\"square\",\"size\":13},\"mode\":\"markers\",\"name\":\"SPQ\",\"orientation\":\"v\",\"showlegend\":true,\"x\":[\"SPQ\"],\"xaxis\":\"x\",\"y\":[94.0],\"yaxis\":\"y\",\"type\":\"scatter\",\"error_x\":{\"thickness\":4,\"width\":4}},{\"error_y\":{\"array\":[3.2],\"thickness\":4,\"width\":4},\"hovertemplate\":\"type=%{x}<br>PL=$PL_{2}$<br>Loss Rate=%{y}<extra></extra>\",\"legendgroup\":\"SPQ\",\"marker\":{\"color\":\"#00cc96\",\"symbol\":\"square\",\"size\":13},\"mode\":\"markers\",\"name\":\"SPQ\",\"orientation\":\"v\",\"showlegend\":false,\"x\":[\"SPQ\"],\"xaxis\":\"x2\",\"y\":[89.4],\"yaxis\":\"y2\",\"type\":\"scatter\",\"error_x\":{\"thickness\":4,\"width\":4}},{\"error_y\":{\"array\":[0.6],\"thickness\":4,\"width\":4},\"hovertemplate\":\"type=%{x}<br>PL=$PL_{3}$<br>Loss Rate=%{y}<extra></extra>\",\"legendgroup\":\"SPQ\",\"marker\":{\"color\":\"#00cc96\",\"symbol\":\"square\",\"size\":13},\"mode\":\"markers\",\"name\":\"SPQ\",\"orientation\":\"v\",\"showlegend\":false,\"x\":[\"SPQ\"],\"xaxis\":\"x3\",\"y\":[93.1],\"yaxis\":\"y3\",\"type\":\"scatter\",\"error_x\":{\"thickness\":4,\"width\":4}},{\"error_y\":{\"array\":[1.8],\"thickness\":4,\"width\":4},\"hovertemplate\":\"type=%{x}<br>PL=$PL_{4}$<br>Loss Rate=%{y}<extra></extra>\",\"legendgroup\":\"SPQ\",\"marker\":{\"color\":\"#00cc96\",\"symbol\":\"square\",\"size\":13},\"mode\":\"markers\",\"name\":\"SPQ\",\"orientation\":\"v\",\"showlegend\":false,\"x\":[\"SPQ\"],\"xaxis\":\"x4\",\"y\":[92.2],\"yaxis\":\"y4\",\"type\":\"scatter\",\"error_x\":{\"thickness\":4,\"width\":4}}],                        {\"template\":{\"data\":{\"bar\":[{\"error_x\":{\"color\":\"#2a3f5f\"},\"error_y\":{\"color\":\"#2a3f5f\"},\"marker\":{\"line\":{\"color\":\"#E5ECF6\",\"width\":0.5},\"pattern\":{\"fillmode\":\"overlay\",\"size\":10,\"solidity\":0.2}},\"type\":\"bar\"}],\"barpolar\":[{\"marker\":{\"line\":{\"color\":\"#E5ECF6\",\"width\":0.5},\"pattern\":{\"fillmode\":\"overlay\",\"size\":10,\"solidity\":0.2}},\"type\":\"barpolar\"}],\"carpet\":[{\"aaxis\":{\"endlinecolor\":\"#2a3f5f\",\"gridcolor\":\"white\",\"linecolor\":\"white\",\"minorgridcolor\":\"white\",\"startlinecolor\":\"#2a3f5f\"},\"baxis\":{\"endlinecolor\":\"#2a3f5f\",\"gridcolor\":\"white\",\"linecolor\":\"white\",\"minorgridcolor\":\"white\",\"startlinecolor\":\"#2a3f5f\"},\"type\":\"carpet\"}],\"choropleth\":[{\"colorbar\":{\"outlinewidth\":0,\"ticks\":\"\"},\"type\":\"choropleth\"}],\"contour\":[{\"colorbar\":{\"outlinewidth\":0,\"ticks\":\"\"},\"colorscale\":[[0.0,\"#0d0887\"],[0.1111111111111111,\"#46039f\"],[0.2222222222222222,\"#7201a8\"],[0.3333333333333333,\"#9c179e\"],[0.4444444444444444,\"#bd3786\"],[0.5555555555555556,\"#d8576b\"],[0.6666666666666666,\"#ed7953\"],[0.7777777777777778,\"#fb9f3a\"],[0.8888888888888888,\"#fdca26\"],[1.0,\"#f0f921\"]],\"type\":\"contour\"}],\"contourcarpet\":[{\"colorbar\":{\"outlinewidth\":0,\"ticks\":\"\"},\"type\":\"contourcarpet\"}],\"heatmap\":[{\"colorbar\":{\"outlinewidth\":0,\"ticks\":\"\"},\"colorscale\":[[0.0,\"#0d0887\"],[0.1111111111111111,\"#46039f\"],[0.2222222222222222,\"#7201a8\"],[0.3333333333333333,\"#9c179e\"],[0.4444444444444444,\"#bd3786\"],[0.5555555555555556,\"#d8576b\"],[0.6666666666666666,\"#ed7953\"],[0.7777777777777778,\"#fb9f3a\"],[0.8888888888888888,\"#fdca26\"],[1.0,\"#f0f921\"]],\"type\":\"heatmap\"}],\"heatmapgl\":[{\"colorbar\":{\"outlinewidth\":0,\"ticks\":\"\"},\"colorscale\":[[0.0,\"#0d0887\"],[0.1111111111111111,\"#46039f\"],[0.2222222222222222,\"#7201a8\"],[0.3333333333333333,\"#9c179e\"],[0.4444444444444444,\"#bd3786\"],[0.5555555555555556,\"#d8576b\"],[0.6666666666666666,\"#ed7953\"],[0.7777777777777778,\"#fb9f3a\"],[0.8888888888888888,\"#fdca26\"],[1.0,\"#f0f921\"]],\"type\":\"heatmapgl\"}],\"histogram\":[{\"marker\":{\"pattern\":{\"fillmode\":\"overlay\",\"size\":10,\"solidity\":0.2}},\"type\":\"histogram\"}],\"histogram2d\":[{\"colorbar\":{\"outlinewidth\":0,\"ticks\":\"\"},\"colorscale\":[[0.0,\"#0d0887\"],[0.1111111111111111,\"#46039f\"],[0.2222222222222222,\"#7201a8\"],[0.3333333333333333,\"#9c179e\"],[0.4444444444444444,\"#bd3786\"],[0.5555555555555556,\"#d8576b\"],[0.6666666666666666,\"#ed7953\"],[0.7777777777777778,\"#fb9f3a\"],[0.8888888888888888,\"#fdca26\"],[1.0,\"#f0f921\"]],\"type\":\"histogram2d\"}],\"histogram2dcontour\":[{\"colorbar\":{\"outlinewidth\":0,\"ticks\":\"\"},\"colorscale\":[[0.0,\"#0d0887\"],[0.1111111111111111,\"#46039f\"],[0.2222222222222222,\"#7201a8\"],[0.3333333333333333,\"#9c179e\"],[0.4444444444444444,\"#bd3786\"],[0.5555555555555556,\"#d8576b\"],[0.6666666666666666,\"#ed7953\"],[0.7777777777777778,\"#fb9f3a\"],[0.8888888888888888,\"#fdca26\"],[1.0,\"#f0f921\"]],\"type\":\"histogram2dcontour\"}],\"mesh3d\":[{\"colorbar\":{\"outlinewidth\":0,\"ticks\":\"\"},\"type\":\"mesh3d\"}],\"parcoords\":[{\"line\":{\"colorbar\":{\"outlinewidth\":0,\"ticks\":\"\"}},\"type\":\"parcoords\"}],\"pie\":[{\"automargin\":true,\"type\":\"pie\"}],\"scatter\":[{\"marker\":{\"colorbar\":{\"outlinewidth\":0,\"ticks\":\"\"}},\"type\":\"scatter\"}],\"scatter3d\":[{\"line\":{\"colorbar\":{\"outlinewidth\":0,\"ticks\":\"\"}},\"marker\":{\"colorbar\":{\"outlinewidth\":0,\"ticks\":\"\"}},\"type\":\"scatter3d\"}],\"scattercarpet\":[{\"marker\":{\"colorbar\":{\"outlinewidth\":0,\"ticks\":\"\"}},\"type\":\"scattercarpet\"}],\"scattergeo\":[{\"marker\":{\"colorbar\":{\"outlinewidth\":0,\"ticks\":\"\"}},\"type\":\"scattergeo\"}],\"scattergl\":[{\"marker\":{\"colorbar\":{\"outlinewidth\":0,\"ticks\":\"\"}},\"type\":\"scattergl\"}],\"scattermapbox\":[{\"marker\":{\"colorbar\":{\"outlinewidth\":0,\"ticks\":\"\"}},\"type\":\"scattermapbox\"}],\"scatterpolar\":[{\"marker\":{\"colorbar\":{\"outlinewidth\":0,\"ticks\":\"\"}},\"type\":\"scatterpolar\"}],\"scatterpolargl\":[{\"marker\":{\"colorbar\":{\"outlinewidth\":0,\"ticks\":\"\"}},\"type\":\"scatterpolargl\"}],\"scatterternary\":[{\"marker\":{\"colorbar\":{\"outlinewidth\":0,\"ticks\":\"\"}},\"type\":\"scatterternary\"}],\"surface\":[{\"colorbar\":{\"outlinewidth\":0,\"ticks\":\"\"},\"colorscale\":[[0.0,\"#0d0887\"],[0.1111111111111111,\"#46039f\"],[0.2222222222222222,\"#7201a8\"],[0.3333333333333333,\"#9c179e\"],[0.4444444444444444,\"#bd3786\"],[0.5555555555555556,\"#d8576b\"],[0.6666666666666666,\"#ed7953\"],[0.7777777777777778,\"#fb9f3a\"],[0.8888888888888888,\"#fdca26\"],[1.0,\"#f0f921\"]],\"type\":\"surface\"}],\"table\":[{\"cells\":{\"fill\":{\"color\":\"#EBF0F8\"},\"line\":{\"color\":\"white\"}},\"header\":{\"fill\":{\"color\":\"#C8D4E3\"},\"line\":{\"color\":\"white\"}},\"type\":\"table\"}]},\"layout\":{\"annotationdefaults\":{\"arrowcolor\":\"#2a3f5f\",\"arrowhead\":0,\"arrowwidth\":1},\"autotypenumbers\":\"strict\",\"coloraxis\":{\"colorbar\":{\"outlinewidth\":0,\"ticks\":\"\"}},\"colorscale\":{\"diverging\":[[0,\"#8e0152\"],[0.1,\"#c51b7d\"],[0.2,\"#de77ae\"],[0.3,\"#f1b6da\"],[0.4,\"#fde0ef\"],[0.5,\"#f7f7f7\"],[0.6,\"#e6f5d0\"],[0.7,\"#b8e186\"],[0.8,\"#7fbc41\"],[0.9,\"#4d9221\"],[1,\"#276419\"]],\"sequential\":[[0.0,\"#0d0887\"],[0.1111111111111111,\"#46039f\"],[0.2222222222222222,\"#7201a8\"],[0.3333333333333333,\"#9c179e\"],[0.4444444444444444,\"#bd3786\"],[0.5555555555555556,\"#d8576b\"],[0.6666666666666666,\"#ed7953\"],[0.7777777777777778,\"#fb9f3a\"],[0.8888888888888888,\"#fdca26\"],[1.0,\"#f0f921\"]],\"sequentialminus\":[[0.0,\"#0d0887\"],[0.1111111111111111,\"#46039f\"],[0.2222222222222222,\"#7201a8\"],[0.3333333333333333,\"#9c179e\"],[0.4444444444444444,\"#bd3786\"],[0.5555555555555556,\"#d8576b\"],[0.6666666666666666,\"#ed7953\"],[0.7777777777777778,\"#fb9f3a\"],[0.8888888888888888,\"#fdca26\"],[1.0,\"#f0f921\"]]},\"colorway\":[\"#636efa\",\"#EF553B\",\"#00cc96\",\"#ab63fa\",\"#FFA15A\",\"#19d3f3\",\"#FF6692\",\"#B6E880\",\"#FF97FF\",\"#FECB52\"],\"font\":{\"color\":\"#2a3f5f\"},\"geo\":{\"bgcolor\":\"white\",\"lakecolor\":\"white\",\"landcolor\":\"#E5ECF6\",\"showlakes\":true,\"showland\":true,\"subunitcolor\":\"white\"},\"hoverlabel\":{\"align\":\"left\"},\"hovermode\":\"closest\",\"mapbox\":{\"style\":\"light\"},\"paper_bgcolor\":\"white\",\"plot_bgcolor\":\"#E5ECF6\",\"polar\":{\"angularaxis\":{\"gridcolor\":\"white\",\"linecolor\":\"white\",\"ticks\":\"\"},\"bgcolor\":\"#E5ECF6\",\"radialaxis\":{\"gridcolor\":\"white\",\"linecolor\":\"white\",\"ticks\":\"\"}},\"scene\":{\"xaxis\":{\"backgroundcolor\":\"#E5ECF6\",\"gridcolor\":\"white\",\"gridwidth\":2,\"linecolor\":\"white\",\"showbackground\":true,\"ticks\":\"\",\"zerolinecolor\":\"white\"},\"yaxis\":{\"backgroundcolor\":\"#E5ECF6\",\"gridcolor\":\"white\",\"gridwidth\":2,\"linecolor\":\"white\",\"showbackground\":true,\"ticks\":\"\",\"zerolinecolor\":\"white\"},\"zaxis\":{\"backgroundcolor\":\"#E5ECF6\",\"gridcolor\":\"white\",\"gridwidth\":2,\"linecolor\":\"white\",\"showbackground\":true,\"ticks\":\"\",\"zerolinecolor\":\"white\"}},\"shapedefaults\":{\"line\":{\"color\":\"#2a3f5f\"}},\"ternary\":{\"aaxis\":{\"gridcolor\":\"white\",\"linecolor\":\"white\",\"ticks\":\"\"},\"baxis\":{\"gridcolor\":\"white\",\"linecolor\":\"white\",\"ticks\":\"\"},\"bgcolor\":\"#E5ECF6\",\"caxis\":{\"gridcolor\":\"white\",\"linecolor\":\"white\",\"ticks\":\"\"}},\"title\":{\"x\":0.05},\"xaxis\":{\"automargin\":true,\"gridcolor\":\"white\",\"linecolor\":\"white\",\"ticks\":\"\",\"title\":{\"standoff\":15},\"zerolinecolor\":\"white\",\"zerolinewidth\":2},\"yaxis\":{\"automargin\":true,\"gridcolor\":\"white\",\"linecolor\":\"white\",\"ticks\":\"\",\"title\":{\"standoff\":15},\"zerolinecolor\":\"white\",\"zerolinewidth\":2}}},\"xaxis\":{\"anchor\":\"y\",\"domain\":[0.0,0.2485],\"title\":{\"text\":\"type\"},\"categoryorder\":\"array\",\"categoryarray\":[\"Compression\",\"Shaping\",\"SPQ\"],\"visible\":false},\"yaxis\":{\"anchor\":\"x\",\"domain\":[0.0,1.0],\"title\":{\"text\":\"$\\\\large{\\\\Delta l} $\",\"standoff\":1},\"visible\":true,\"gridcolor\":\"lightgrey\",\"gridwidth\":1,\"range\":[60,100]},\"xaxis2\":{\"anchor\":\"y2\",\"domain\":[0.2505,0.499],\"matches\":\"x\",\"title\":{\"text\":\"type\"},\"categoryorder\":\"array\",\"categoryarray\":[\"Compression\",\"Shaping\",\"SPQ\"],\"visible\":false},\"yaxis2\":{\"anchor\":\"x2\",\"domain\":[0.0,1.0],\"matches\":\"y\",\"showticklabels\":false,\"title\":{\"standoff\":1},\"visible\":true,\"gridcolor\":\"lightgrey\",\"gridwidth\":1},\"xaxis3\":{\"anchor\":\"y3\",\"domain\":[0.501,0.7495],\"matches\":\"x\",\"title\":{\"text\":\"type\"},\"categoryorder\":\"array\",\"categoryarray\":[\"Compression\",\"Shaping\",\"SPQ\"],\"visible\":false},\"yaxis3\":{\"anchor\":\"x3\",\"domain\":[0.0,1.0],\"matches\":\"y\",\"showticklabels\":false,\"title\":{\"standoff\":1},\"visible\":true,\"gridcolor\":\"lightgrey\",\"gridwidth\":1},\"xaxis4\":{\"anchor\":\"y4\",\"domain\":[0.7515000000000001,1.0],\"matches\":\"x\",\"title\":{\"text\":\"type\"},\"categoryorder\":\"array\",\"categoryarray\":[\"Compression\",\"Shaping\",\"SPQ\"],\"visible\":false},\"yaxis4\":{\"anchor\":\"x4\",\"domain\":[0.0,1.0],\"matches\":\"y\",\"showticklabels\":false,\"title\":{\"standoff\":1},\"visible\":true,\"gridcolor\":\"lightgrey\",\"gridwidth\":1},\"annotations\":[{\"showarrow\":false,\"text\":\"$PL_{1}$\",\"x\":0.12425,\"xanchor\":\"center\",\"xref\":\"paper\",\"y\":-0.07,\"yanchor\":\"bottom\",\"yref\":\"paper\"},{\"showarrow\":false,\"text\":\"$PL_{2}$\",\"x\":0.37475,\"xanchor\":\"center\",\"xref\":\"paper\",\"y\":-0.07,\"yanchor\":\"bottom\",\"yref\":\"paper\"},{\"showarrow\":false,\"text\":\"$PL_{3}$\",\"x\":0.6252500000000001,\"xanchor\":\"center\",\"xref\":\"paper\",\"y\":-0.07,\"yanchor\":\"bottom\",\"yref\":\"paper\"},{\"showarrow\":false,\"text\":\"$PL_{4}$\",\"x\":0.87575,\"xanchor\":\"center\",\"xref\":\"paper\",\"y\":-0.07,\"yanchor\":\"bottom\",\"yref\":\"paper\"},{\"showarrow\":false,\"text\":\"\",\"x\":-1.2,\"xanchor\":\"left\",\"xref\":\"x\",\"y\":1,\"yanchor\":\"top\",\"yref\":\"y domain\"},{\"showarrow\":false,\"text\":\"\",\"x\":-1.2,\"xanchor\":\"left\",\"xref\":\"x2\",\"y\":1,\"yanchor\":\"top\",\"yref\":\"y2 domain\"},{\"showarrow\":false,\"text\":\"\",\"x\":-1.2,\"xanchor\":\"left\",\"xref\":\"x3\",\"y\":1,\"yanchor\":\"top\",\"yref\":\"y3 domain\"},{\"showarrow\":false,\"text\":\"\",\"x\":-1.2,\"xanchor\":\"left\",\"xref\":\"x4\",\"y\":1,\"yanchor\":\"top\",\"yref\":\"y4 domain\"},{\"showarrow\":false,\"text\":\"\",\"x\":1,\"xanchor\":\"right\",\"xref\":\"x domain\",\"y\":20,\"yanchor\":\"bottom\",\"yref\":\"y\"},{\"showarrow\":false,\"text\":\"\",\"x\":1,\"xanchor\":\"right\",\"xref\":\"x2 domain\",\"y\":20,\"yanchor\":\"bottom\",\"yref\":\"y2\"},{\"showarrow\":false,\"text\":\"\",\"x\":1,\"xanchor\":\"right\",\"xref\":\"x3 domain\",\"y\":20,\"yanchor\":\"bottom\",\"yref\":\"y3\"},{\"showarrow\":false,\"text\":\"\",\"x\":1,\"xanchor\":\"right\",\"xref\":\"x4 domain\",\"y\":20,\"yanchor\":\"bottom\",\"yref\":\"y4\"},{\"showarrow\":false,\"text\":\"20% Threshold\",\"x\":1,\"xref\":\"x4\",\"y\":24,\"yref\":\"y4\"}],\"legend\":{\"title\":{\"text\":\"\"},\"tracegroupgap\":0,\"yanchor\":\"middle\",\"y\":0.09,\"xanchor\":\"right\",\"x\":0.99,\"borderwidth\":1,\"bordercolor\":\"lightgrey\",\"orientation\":\"h\"},\"margin\":{\"t\":60},\"height\":400,\"width\":1000,\"shapes\":[{\"line\":{\"color\":\"lightgrey\",\"width\":1},\"type\":\"rect\",\"x0\":0,\"x1\":1.0,\"xref\":\"paper\",\"y0\":0,\"y1\":1.0,\"yref\":\"paper\"},{\"line\":{\"color\":\"lightgrey\",\"width\":1},\"type\":\"line\",\"x0\":-1.2,\"x1\":-1.2,\"xref\":\"x\",\"y0\":0,\"y1\":1,\"yref\":\"y domain\"},{\"line\":{\"color\":\"lightgrey\",\"width\":1},\"type\":\"line\",\"x0\":-1.2,\"x1\":-1.2,\"xref\":\"x2\",\"y0\":0,\"y1\":1,\"yref\":\"y2 domain\"},{\"line\":{\"color\":\"lightgrey\",\"width\":1},\"type\":\"line\",\"x0\":-1.2,\"x1\":-1.2,\"xref\":\"x3\",\"y0\":0,\"y1\":1,\"yref\":\"y3 domain\"},{\"line\":{\"color\":\"lightgrey\",\"width\":1},\"type\":\"line\",\"x0\":-1.2,\"x1\":-1.2,\"xref\":\"x4\",\"y0\":0,\"y1\":1,\"yref\":\"y4 domain\"},{\"line\":{\"dash\":\"dash\"},\"type\":\"line\",\"x0\":0,\"x1\":1,\"xref\":\"x domain\",\"y0\":20,\"y1\":20,\"yref\":\"y\"},{\"line\":{\"dash\":\"dash\"},\"type\":\"line\",\"x0\":0,\"x1\":1,\"xref\":\"x2 domain\",\"y0\":20,\"y1\":20,\"yref\":\"y2\"},{\"line\":{\"dash\":\"dash\"},\"type\":\"line\",\"x0\":0,\"x1\":1,\"xref\":\"x3 domain\",\"y0\":20,\"y1\":20,\"yref\":\"y3\"},{\"line\":{\"dash\":\"dash\"},\"type\":\"line\",\"x0\":0,\"x1\":1,\"xref\":\"x4 domain\",\"y0\":20,\"y1\":20,\"yref\":\"y4\"}],\"font\":{\"size\":15},\"plot_bgcolor\":\"#fff\"},                        {\"responsive\": true}                    ).then(function(){\n",
       "                            \n",
       "var gd = document.getElementById('12638a8b-2ce8-49b1-8323-7a77a1d899b3');\n",
       "var x = new MutationObserver(function (mutations, observer) {{\n",
       "        var display = window.getComputedStyle(gd).display;\n",
       "        if (!display || display === 'none') {{\n",
       "            console.log([gd, 'removed!']);\n",
       "            Plotly.purge(gd);\n",
       "            observer.disconnect();\n",
       "        }}\n",
       "}});\n",
       "\n",
       "// Listen for the removal of the full notebook cells\n",
       "var notebookContainer = gd.closest('#notebook-container');\n",
       "if (notebookContainer) {{\n",
       "    x.observe(notebookContainer, {childList: true});\n",
       "}}\n",
       "\n",
       "// Listen for the clearing of the current output cell\n",
       "var outputEl = gd.closest('.output');\n",
       "if (outputEl) {{\n",
       "    x.observe(outputEl, {childList: true});\n",
       "}}\n",
       "\n",
       "                        })                };                });            </script>        </div>"
      ]
     },
     "metadata": {},
     "output_type": "display_data"
    }
   ],
   "source": [
    "import plotly.express as px\n",
    "import pandas as pd\n",
    "import plotly.io as pio\n",
    "\n",
    "df = pd.DataFrame({'Loss Rate': {0: 75,\n",
    "  1: 78.1,\n",
    "  2: 94,\n",
    "  3: 82.3,\n",
    "  4: 71.4,\n",
    "  5: 89.4,\n",
    "  6: 80.1,\n",
    "  7: 81.4,\n",
    "  8: 93.1,\n",
    "  9: 77.6,\n",
    "  10: 77.7,\n",
    "  11: 92.2},\n",
    "'yerr': {0: 0.6,\n",
    "  1: 0.2,\n",
    "  2: 0.3,\n",
    "  3: 3.1,\n",
    "  4: 4.3,\n",
    "  5: 3.2,\n",
    "  6: 2.7,\n",
    "  7: 2.2,\n",
    "  8: 0.6,\n",
    "  9: 1.7,\n",
    "  10: 1.7,\n",
    "  11: 1.8},\n",
    " 'PL': {0: '$PL_{1}$',\n",
    "  1: '$PL_{1}$',\n",
    "  2: '$PL_{1}$',\n",
    "  3: '$PL_{2}$',\n",
    "  4: '$PL_{2}$',\n",
    "  5: '$PL_{2}$',\n",
    "  6: '$PL_{3}$',\n",
    "  7: '$PL_{3}$',\n",
    "  8: '$PL_{3}$',\n",
    "  9: '$PL_{4}$',\n",
    "  10: '$PL_{4}$',\n",
    "  11: '$PL_{4}$'},\n",
    " 'type': {0: 'Compression',\n",
    "  1: 'Shaping',\n",
    "  2: 'SPQ',\n",
    "  3: 'Compression',\n",
    "  4: 'Shaping',\n",
    "  5: 'SPQ',\n",
    "  6: 'Compression',\n",
    "  7: 'Shaping',\n",
    "  8: 'SPQ',\n",
    "  9: 'Compression',\n",
    "  10: 'Shaping',\n",
    "  11: 'SPQ'},\n",
    "\n",
    "})\n",
    "\n",
    "fig = px.scatter(\n",
    "    df, x='type', y='Loss Rate', error_y='yerr',\n",
    "    facet_col='PL',\n",
    "    color='type',\n",
    "    height=550, width=800,\n",
    "    facet_col_spacing=0.002,  #narrow the space between facets\n",
    "    symbol=\"type\",\n",
    "    symbol_map={\n",
    "        \"Compression\":\"circle\",\n",
    "        \"Shaping\":\"triangle-up\",\n",
    "        \"SPQ\":\"square\"\n",
    "    },\n",
    ")\n",
    "# fig.update_traces(\n",
    "#     textposition='top center'\n",
    "# )\n",
    "\n",
    "fig.update_traces(\n",
    "    marker=dict(\n",
    "        size = 13\n",
    "    ),\n",
    "    error_y=dict(\n",
    "        thickness=4,\n",
    "        width=4,\n",
    "    ),\n",
    "    error_x=dict(\n",
    "        thickness=4,\n",
    "        width=4,\n",
    "    ),\n",
    ")\n",
    "\n",
    "fig.update_xaxes(visible=False)\n",
    "fig.update_yaxes(visible=True, \n",
    "                 gridcolor='lightgrey', gridwidth=1,\n",
    "                 title_standoff=1\n",
    "                )\n",
    "fig.for_each_annotation(lambda a: a.update(text=a.text.split(\"=\")[-1]))\n",
    "\n",
    "\n",
    "for i in range(4):\n",
    "    fig.layout.annotations[i].y = -0.07\n",
    "    \n",
    "    \n",
    "\n",
    "#boarder\n",
    "fig.add_shape(\n",
    "        # Rectangle with reference to the plot\n",
    "        type=\"rect\",\n",
    "        xref=\"paper\",\n",
    "        yref=\"paper\",\n",
    "        x0=0,\n",
    "        y0=0,\n",
    "        x1=1.0,\n",
    "        y1=1.0,\n",
    "        line=dict(\n",
    "            color=\"lightgrey\",\n",
    "            width=1,\n",
    "        )\n",
    ")\n",
    "\n",
    "# draw the divider between each PL\n",
    "fig.add_vline(\n",
    "    x=-1.2,\n",
    "    line=dict(\n",
    "        color=\"lightgrey\",\n",
    "        width=1,\n",
    "    ),\n",
    "    annotation_text=\"\"\n",
    ")\n",
    "\n",
    "\n",
    "# threshold line\n",
    "fig.add_hline(\n",
    "    y=20, line_dash=\"dash\",\n",
    "    annotation_text=\"\")\n",
    "\n",
    "# threshold annotation\n",
    "fig.add_annotation(\n",
    "    xref=f\"x{4}\",\n",
    "    yref=f\"y{4}\",\n",
    "    x=1,\n",
    "    y=24,\n",
    "    text=\"20% Threshold\",\n",
    "    showarrow=False\n",
    ")\n",
    "\n",
    "\n",
    "\n",
    "fig.update_layout(\n",
    "    yaxis_range=[60, 100],\n",
    "    yaxis_title_text=r'$\\large{\\Delta l} $',\n",
    "    width=1000,\n",
    "    height=400,\n",
    "    plot_bgcolor=\"#fff\",\n",
    "    font_size=15,\n",
    "\n",
    "    legend=dict(\n",
    "        title='',\n",
    "        yanchor=\"middle\", \n",
    "        y=0.09,\n",
    "        xanchor=\"right\", \n",
    "        x=0.99,\n",
    "        borderwidth=1,\n",
    "        bordercolor=\"lightgrey\",\n",
    "        orientation=\"h\",\n",
    "    )\n",
    ")\n",
    "fig.show()\n",
    "pio.write_image(fig, 'IEEE_NOMS_2024_Fig6.pdf')"
   ]
  },
  {
   "cell_type": "code",
   "execution_count": null,
   "id": "adbae69d",
   "metadata": {},
   "outputs": [
    {
     "name": "stdout",
     "output_type": "stream",
     "text": [
      "Collecting kaleido\n",
      "  Downloading kaleido-0.2.1-py2.py3-none-macosx_10_11_x86_64.whl (85.2 MB)\n",
      "\u001b[K     |███████████████████████▎        | 61.8 MB 94 kB/s eta 0:04:0891████████▍                  | 35.7 MB 1.2 MB/s eta 0:00:40"
     ]
    }
   ],
   "source": [
    "pip install -U kaleido"
   ]
  }
 ],
 "metadata": {
  "kernelspec": {
   "display_name": "Python 3 (ipykernel)",
   "language": "python",
   "name": "python3"
  },
  "language_info": {
   "codemirror_mode": {
    "name": "ipython",
    "version": 3
   },
   "file_extension": ".py",
   "mimetype": "text/x-python",
   "name": "python",
   "nbconvert_exporter": "python",
   "pygments_lexer": "ipython3",
   "version": "3.9.12"
  }
 },
 "nbformat": 4,
 "nbformat_minor": 5
}
